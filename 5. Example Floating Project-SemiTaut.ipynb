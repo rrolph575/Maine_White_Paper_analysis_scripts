{
 "cells": [
  {
   "cell_type": "code",
   "execution_count": null,
   "metadata": {},
   "outputs": [],
   "source": []
  },
  {
   "cell_type": "markdown",
   "metadata": {},
   "source": [
    "#### Jake Nunemaker, edited by B. Fuchs\n",
    "\n",
    "National Renewable Energy Lab\n",
    "\n",
    "Last updated: 20 Feb 2023"
   ]
  },
  {
   "cell_type": "code",
   "execution_count": 1,
   "metadata": {},
   "outputs": [],
   "source": [
    "import os\n",
    "import pandas as pd\n",
    "from ORBIT import ProjectManager, load_config \n",
    "\n",
    "weather = pd.read_csv(\"data/swh_ws100m_maine_2010_thru_2022.csv\", parse_dates=[\"datetime\"])\\\n",
    "            .set_index(\"datetime\")"
   ]
  },
  {
   "cell_type": "markdown",
   "metadata": {},
   "source": [
    "### Load the project configuration"
   ]
  },
  {
   "cell_type": "code",
   "execution_count": 2,
   "metadata": {},
   "outputs": [
    {
     "name": "stdout",
     "output_type": "stream",
     "text": [
      "Num turbines: 334\n",
      "Turbine: 15MW_generic\n",
      "\n",
      "Site: {'depth': 500, 'distance': 120, 'distance_to_landfall': 88}\n"
     ]
    }
   ],
   "source": [
    "#fixed_config = load_config(\"configs/example_floating_project_SemiTaut.yaml\") \n",
    "fixed_config = load_config(\"configs/scenario_1_for_5GW.yaml\")\n",
    "\n",
    "print(f\"Num turbines: {fixed_config['plant']['num_turbines']}\")\n",
    "print(f\"Turbine: {fixed_config['turbine']}\")\n",
    "print(f\"\\nSite: {fixed_config['site']}\")"
   ]
  },
  {
   "cell_type": "markdown",
   "metadata": {},
   "source": [
    "### Phases"
   ]
  },
  {
   "cell_type": "code",
   "execution_count": 3,
   "metadata": {},
   "outputs": [
    {
     "name": "stdout",
     "output_type": "stream",
     "text": [
      "Design phases: ['ArraySystemDesign', 'ElectricalDesign', 'SemiSubmersibleDesign', 'SemiTautMooringSystemDesign', 'OffshoreFloatingSubstationDesign']\n",
      "\n",
      "Install phases: ['ArrayCableInstallation', 'ExportCableInstallation', 'MooredSubInstallation', 'MooringSystemInstallation', 'FloatingSubstationInstallation']\n"
     ]
    }
   ],
   "source": [
    "print(f\"Design phases: {fixed_config['design_phases']}\")\n",
    "print(f\"\\nInstall phases: {list(fixed_config['install_phases'].keys())}\")\n",
    "# This now says \"SemiTautMooringSystemDesign\" in the design phases"
   ]
  },
  {
   "cell_type": "markdown",
   "metadata": {},
   "source": [
    "### Run"
   ]
  },
  {
   "cell_type": "code",
   "execution_count": null,
   "metadata": {},
   "outputs": [],
   "source": []
  },
  {
   "cell_type": "code",
   "execution_count": 4,
   "metadata": {},
   "outputs": [
    {
     "name": "stdout",
     "output_type": "stream",
     "text": [
      "ORBIT library intialized at 'C:\\Users\\rrolph\\OneDrive - NREL\\ORBIT\\library'\n"
     ]
    }
   ],
   "source": [
    "project = ProjectManager(fixed_config, weather=weather)\n",
    "project.run()"
   ]
  },
  {
   "cell_type": "markdown",
   "metadata": {},
   "source": [
    "### Top Level Outputs"
   ]
  },
  {
   "cell_type": "code",
   "execution_count": 5,
   "metadata": {},
   "outputs": [
    {
     "name": "stdout",
     "output_type": "stream",
     "text": [
      "Installation CapEx:  930 M\n",
      "System CapEx:       14203 M\n",
      "Turbine CapEx:       6513 M\n",
      "Soft CapEx:          3231 M\n",
      "Total CapEx:        25028 M\n",
      "\n",
      "Installation Time: 108230 h\n"
     ]
    }
   ],
   "source": [
    "print(f\"Installation CapEx:  {project.installation_capex/1e6:.0f} M\")\n",
    "print(f\"System CapEx:       {project.system_capex/1e6:.0f} M\")\n",
    "print(f\"Turbine CapEx:       {project.turbine_capex/1e6:.0f} M\")\n",
    "print(f\"Soft CapEx:          {project.soft_capex/1e6:.0f} M\")\n",
    "print(f\"Total CapEx:        {project.total_capex/1e6:.0f} M\")\n",
    "\n",
    "print(f\"\\nInstallation Time: {project.installation_time:.0f} h\")"
   ]
  },
  {
   "cell_type": "markdown",
   "metadata": {},
   "source": [
    "### CapEx Breakdown"
   ]
  },
  {
   "cell_type": "code",
   "execution_count": 6,
   "metadata": {},
   "outputs": [
    {
     "data": {
      "text/plain": [
       "{'Array System': 231932101.68450087,\n",
       " 'Export System': 456979102.542,\n",
       " 'Substructure': 4907469840.65,\n",
       " 'Mooring System': 941242728.0,\n",
       " 'Offshore Substation': 7665107960.0,\n",
       " 'Array System Installation': 128479762.86409183,\n",
       " 'Export System Installation': 28744870.32926516,\n",
       " 'Substructure Installation': 525380505.1369863,\n",
       " 'Mooring System Installation': 210012043.37899548,\n",
       " 'Offshore Substation Installation': 37450856.16438356,\n",
       " 'Turbine': 6513000000,\n",
       " 'Soft': 3231450000,\n",
       " 'Project': 151250000.0}"
      ]
     },
     "execution_count": 6,
     "metadata": {},
     "output_type": "execute_result"
    }
   ],
   "source": [
    "project.capex_breakdown"
   ]
  },
  {
   "cell_type": "code",
   "execution_count": 7,
   "metadata": {},
   "outputs": [
    {
     "data": {
      "text/plain": [
       "{'Array System': 46.29383267155706,\n",
       " 'Export System': 91.21339372095808,\n",
       " 'Substructure': 979.5348983333332,\n",
       " 'Mooring System': 187.8728,\n",
       " 'Offshore Substation': 1529.9616686626746,\n",
       " 'Array System Installation': 25.644663246325713,\n",
       " 'Export System Installation': 5.7374990677175965,\n",
       " 'Substructure Installation': 104.86636829081563,\n",
       " 'Mooring System Installation': 41.91857153273363,\n",
       " 'Offshore Substation Installation': 7.475220791294124,\n",
       " 'Turbine': 1300.0,\n",
       " 'Soft': 645.0,\n",
       " 'Project': 30.189620758483034}"
      ]
     },
     "execution_count": 7,
     "metadata": {},
     "output_type": "execute_result"
    }
   ],
   "source": [
    "project.capex_breakdown_per_kw"
   ]
  },
  {
   "cell_type": "markdown",
   "metadata": {},
   "source": [
    "### Installation Actions"
   ]
  },
  {
   "cell_type": "code",
   "execution_count": 8,
   "metadata": {},
   "outputs": [
    {
     "data": {
      "text/html": [
       "<div>\n",
       "<style scoped>\n",
       "    .dataframe tbody tr th:only-of-type {\n",
       "        vertical-align: middle;\n",
       "    }\n",
       "\n",
       "    .dataframe tbody tr th {\n",
       "        vertical-align: top;\n",
       "    }\n",
       "\n",
       "    .dataframe thead th {\n",
       "        text-align: right;\n",
       "    }\n",
       "</style>\n",
       "<table border=\"1\" class=\"dataframe\">\n",
       "  <thead>\n",
       "    <tr style=\"text-align: right;\">\n",
       "      <th></th>\n",
       "      <th>cost_multiplier</th>\n",
       "      <th>agent</th>\n",
       "      <th>action</th>\n",
       "      <th>duration</th>\n",
       "      <th>cost</th>\n",
       "      <th>level</th>\n",
       "      <th>time</th>\n",
       "      <th>phase</th>\n",
       "      <th>location</th>\n",
       "      <th>phase_name</th>\n",
       "      <th>max_waveheight</th>\n",
       "      <th>max_windspeed</th>\n",
       "      <th>transit_speed</th>\n",
       "      <th>num_vessels</th>\n",
       "    </tr>\n",
       "  </thead>\n",
       "  <tbody>\n",
       "    <tr>\n",
       "      <th>0</th>\n",
       "      <td>0.5</td>\n",
       "      <td>Array Cable Installation Vessel</td>\n",
       "      <td>Mobilize</td>\n",
       "      <td>72.0</td>\n",
       "      <td>1.800000e+05</td>\n",
       "      <td>ACTION</td>\n",
       "      <td>0.0</td>\n",
       "      <td>ArrayCableInstallation</td>\n",
       "      <td>NaN</td>\n",
       "      <td>NaN</td>\n",
       "      <td>NaN</td>\n",
       "      <td>NaN</td>\n",
       "      <td>NaN</td>\n",
       "      <td>NaN</td>\n",
       "    </tr>\n",
       "    <tr>\n",
       "      <th>1</th>\n",
       "      <td>0.5</td>\n",
       "      <td>Export Cable Installation Vessel</td>\n",
       "      <td>Mobilize</td>\n",
       "      <td>72.0</td>\n",
       "      <td>1.800000e+05</td>\n",
       "      <td>ACTION</td>\n",
       "      <td>0.0</td>\n",
       "      <td>ExportCableInstallation</td>\n",
       "      <td>NaN</td>\n",
       "      <td>NaN</td>\n",
       "      <td>NaN</td>\n",
       "      <td>NaN</td>\n",
       "      <td>NaN</td>\n",
       "      <td>NaN</td>\n",
       "    </tr>\n",
       "    <tr>\n",
       "      <th>2</th>\n",
       "      <td>NaN</td>\n",
       "      <td>Onshore Construction</td>\n",
       "      <td>Onshore Construction</td>\n",
       "      <td>0.0</td>\n",
       "      <td>1.665604e+06</td>\n",
       "      <td>ACTION</td>\n",
       "      <td>0.0</td>\n",
       "      <td>ExportCableInstallation</td>\n",
       "      <td>Landfall</td>\n",
       "      <td>NaN</td>\n",
       "      <td>NaN</td>\n",
       "      <td>NaN</td>\n",
       "      <td>NaN</td>\n",
       "      <td>NaN</td>\n",
       "    </tr>\n",
       "    <tr>\n",
       "      <th>3</th>\n",
       "      <td>1.0</td>\n",
       "      <td>Mooring System Installation Vessel</td>\n",
       "      <td>Mobilize</td>\n",
       "      <td>168.0</td>\n",
       "      <td>7.000000e+05</td>\n",
       "      <td>ACTION</td>\n",
       "      <td>0.0</td>\n",
       "      <td>MooringSystemInstallation</td>\n",
       "      <td>NaN</td>\n",
       "      <td>NaN</td>\n",
       "      <td>NaN</td>\n",
       "      <td>NaN</td>\n",
       "      <td>NaN</td>\n",
       "      <td>NaN</td>\n",
       "    </tr>\n",
       "    <tr>\n",
       "      <th>4</th>\n",
       "      <td>NaN</td>\n",
       "      <td>Substation Assembly Line 1</td>\n",
       "      <td>Substation Substructure Assembly</td>\n",
       "      <td>0.0</td>\n",
       "      <td>0.000000e+00</td>\n",
       "      <td>ACTION</td>\n",
       "      <td>0.0</td>\n",
       "      <td>FloatingSubstationInstallation</td>\n",
       "      <td>NaN</td>\n",
       "      <td>NaN</td>\n",
       "      <td>NaN</td>\n",
       "      <td>NaN</td>\n",
       "      <td>NaN</td>\n",
       "      <td>NaN</td>\n",
       "    </tr>\n",
       "    <tr>\n",
       "      <th>...</th>\n",
       "      <td>...</td>\n",
       "      <td>...</td>\n",
       "      <td>...</td>\n",
       "      <td>...</td>\n",
       "      <td>...</td>\n",
       "      <td>...</td>\n",
       "      <td>...</td>\n",
       "      <td>...</td>\n",
       "      <td>...</td>\n",
       "      <td>...</td>\n",
       "      <td>...</td>\n",
       "      <td>...</td>\n",
       "      <td>...</td>\n",
       "      <td>...</td>\n",
       "    </tr>\n",
       "    <tr>\n",
       "      <th>15804</th>\n",
       "      <td>NaN</td>\n",
       "      <td>Multi-Purpose Support Vessel</td>\n",
       "      <td>Connect Mooring Lines, Pre-tension and pre-str...</td>\n",
       "      <td>20.0</td>\n",
       "      <td>8.333333e+04</td>\n",
       "      <td>ACTION</td>\n",
       "      <td>56256.5</td>\n",
       "      <td>MooredSubInstallation</td>\n",
       "      <td>NaN</td>\n",
       "      <td>NaN</td>\n",
       "      <td>NaN</td>\n",
       "      <td>NaN</td>\n",
       "      <td>NaN</td>\n",
       "      <td>NaN</td>\n",
       "    </tr>\n",
       "    <tr>\n",
       "      <th>15805</th>\n",
       "      <td>NaN</td>\n",
       "      <td>Multi-Purpose Support Vessel</td>\n",
       "      <td>Check Mooring Lines</td>\n",
       "      <td>6.0</td>\n",
       "      <td>2.500000e+04</td>\n",
       "      <td>ACTION</td>\n",
       "      <td>56262.5</td>\n",
       "      <td>MooredSubInstallation</td>\n",
       "      <td>NaN</td>\n",
       "      <td>NaN</td>\n",
       "      <td>NaN</td>\n",
       "      <td>NaN</td>\n",
       "      <td>NaN</td>\n",
       "      <td>NaN</td>\n",
       "    </tr>\n",
       "    <tr>\n",
       "      <th>15806</th>\n",
       "      <td>NaN</td>\n",
       "      <td>Towing Group 1</td>\n",
       "      <td>Positioning Support</td>\n",
       "      <td>34.0</td>\n",
       "      <td>8.500000e+04</td>\n",
       "      <td>ACTION</td>\n",
       "      <td>56262.5</td>\n",
       "      <td>MooredSubInstallation</td>\n",
       "      <td>site</td>\n",
       "      <td>NaN</td>\n",
       "      <td>NaN</td>\n",
       "      <td>NaN</td>\n",
       "      <td>NaN</td>\n",
       "      <td>2.0</td>\n",
       "    </tr>\n",
       "    <tr>\n",
       "      <th>15807</th>\n",
       "      <td>NaN</td>\n",
       "      <td>Multi-Purpose Support Vessel</td>\n",
       "      <td>Transit</td>\n",
       "      <td>12.0</td>\n",
       "      <td>5.000000e+04</td>\n",
       "      <td>ACTION</td>\n",
       "      <td>56274.5</td>\n",
       "      <td>MooredSubInstallation</td>\n",
       "      <td>NaN</td>\n",
       "      <td>NaN</td>\n",
       "      <td>NaN</td>\n",
       "      <td>NaN</td>\n",
       "      <td>NaN</td>\n",
       "      <td>NaN</td>\n",
       "    </tr>\n",
       "    <tr>\n",
       "      <th>15808</th>\n",
       "      <td>NaN</td>\n",
       "      <td>Towing Group 1</td>\n",
       "      <td>Transit</td>\n",
       "      <td>20.0</td>\n",
       "      <td>7.500000e+04</td>\n",
       "      <td>ACTION</td>\n",
       "      <td>56282.5</td>\n",
       "      <td>MooredSubInstallation</td>\n",
       "      <td>NaN</td>\n",
       "      <td>NaN</td>\n",
       "      <td>NaN</td>\n",
       "      <td>NaN</td>\n",
       "      <td>NaN</td>\n",
       "      <td>3.0</td>\n",
       "    </tr>\n",
       "  </tbody>\n",
       "</table>\n",
       "<p>15809 rows × 14 columns</p>\n",
       "</div>"
      ],
      "text/plain": [
       "       cost_multiplier                               agent  \\\n",
       "0                  0.5     Array Cable Installation Vessel   \n",
       "1                  0.5    Export Cable Installation Vessel   \n",
       "2                  NaN                Onshore Construction   \n",
       "3                  1.0  Mooring System Installation Vessel   \n",
       "4                  NaN          Substation Assembly Line 1   \n",
       "...                ...                                 ...   \n",
       "15804              NaN        Multi-Purpose Support Vessel   \n",
       "15805              NaN        Multi-Purpose Support Vessel   \n",
       "15806              NaN                      Towing Group 1   \n",
       "15807              NaN        Multi-Purpose Support Vessel   \n",
       "15808              NaN                      Towing Group 1   \n",
       "\n",
       "                                                  action  duration  \\\n",
       "0                                               Mobilize      72.0   \n",
       "1                                               Mobilize      72.0   \n",
       "2                                   Onshore Construction       0.0   \n",
       "3                                               Mobilize     168.0   \n",
       "4                       Substation Substructure Assembly       0.0   \n",
       "...                                                  ...       ...   \n",
       "15804  Connect Mooring Lines, Pre-tension and pre-str...      20.0   \n",
       "15805                                Check Mooring Lines       6.0   \n",
       "15806                                Positioning Support      34.0   \n",
       "15807                                            Transit      12.0   \n",
       "15808                                            Transit      20.0   \n",
       "\n",
       "               cost   level     time                           phase  \\\n",
       "0      1.800000e+05  ACTION      0.0          ArrayCableInstallation   \n",
       "1      1.800000e+05  ACTION      0.0         ExportCableInstallation   \n",
       "2      1.665604e+06  ACTION      0.0         ExportCableInstallation   \n",
       "3      7.000000e+05  ACTION      0.0       MooringSystemInstallation   \n",
       "4      0.000000e+00  ACTION      0.0  FloatingSubstationInstallation   \n",
       "...             ...     ...      ...                             ...   \n",
       "15804  8.333333e+04  ACTION  56256.5           MooredSubInstallation   \n",
       "15805  2.500000e+04  ACTION  56262.5           MooredSubInstallation   \n",
       "15806  8.500000e+04  ACTION  56262.5           MooredSubInstallation   \n",
       "15807  5.000000e+04  ACTION  56274.5           MooredSubInstallation   \n",
       "15808  7.500000e+04  ACTION  56282.5           MooredSubInstallation   \n",
       "\n",
       "       location phase_name  max_waveheight  max_windspeed  transit_speed  \\\n",
       "0           NaN        NaN             NaN            NaN            NaN   \n",
       "1           NaN        NaN             NaN            NaN            NaN   \n",
       "2      Landfall        NaN             NaN            NaN            NaN   \n",
       "3           NaN        NaN             NaN            NaN            NaN   \n",
       "4           NaN        NaN             NaN            NaN            NaN   \n",
       "...         ...        ...             ...            ...            ...   \n",
       "15804       NaN        NaN             NaN            NaN            NaN   \n",
       "15805       NaN        NaN             NaN            NaN            NaN   \n",
       "15806      site        NaN             NaN            NaN            NaN   \n",
       "15807       NaN        NaN             NaN            NaN            NaN   \n",
       "15808       NaN        NaN             NaN            NaN            NaN   \n",
       "\n",
       "       num_vessels  \n",
       "0              NaN  \n",
       "1              NaN  \n",
       "2              NaN  \n",
       "3              NaN  \n",
       "4              NaN  \n",
       "...            ...  \n",
       "15804          NaN  \n",
       "15805          NaN  \n",
       "15806          2.0  \n",
       "15807          NaN  \n",
       "15808          3.0  \n",
       "\n",
       "[15809 rows x 14 columns]"
      ]
     },
     "execution_count": 8,
     "metadata": {},
     "output_type": "execute_result"
    }
   ],
   "source": [
    "pd.DataFrame(project.actions)"
   ]
  },
  {
   "cell_type": "code",
   "execution_count": null,
   "metadata": {},
   "outputs": [],
   "source": []
  }
 ],
 "metadata": {
  "kernelspec": {
   "display_name": "Python 3 (ipykernel)",
   "language": "python",
   "name": "python3"
  },
  "language_info": {
   "codemirror_mode": {
    "name": "ipython",
    "version": 3
   },
   "file_extension": ".py",
   "mimetype": "text/x-python",
   "name": "python",
   "nbconvert_exporter": "python",
   "pygments_lexer": "ipython3",
   "version": "3.9.16"
  }
 },
 "nbformat": 4,
 "nbformat_minor": 4
}
