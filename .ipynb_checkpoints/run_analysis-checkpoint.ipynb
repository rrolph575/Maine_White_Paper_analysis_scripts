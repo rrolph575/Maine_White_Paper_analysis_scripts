{
 "cells": [
  {
   "cell_type": "code",
   "execution_count": 15,
   "id": "aebf3b70",
   "metadata": {},
   "outputs": [
    {
     "name": "stdout",
     "output_type": "stream",
     "text": [
      "ORBIT library intialized at 'data'\n",
      "{   'array_cable_bury_vessel': 'str (optional)',\n",
      "    'array_cable_install_vessel': 'str',\n",
      "    'array_cable_trench_vessel': 'str (optional)',\n",
      "    'array_system': {   'free_cable_length': \"km (optional, default: 'depth')\",\n",
      "                        'num_strings': 'int (optional, default: 10)'},\n",
      "    'array_system_design': {   'average_exclusion_percent': 'float (optional)',\n",
      "                               'cables': 'list | str',\n",
      "                               'floating_cable_depth': 'm (optional, default: '\n",
      "                                                       'water depth)',\n",
      "                               'touchdown_distance': 'm (optional, default: '\n",
      "                                                     '0)'},\n",
      "    'design_phases': [   'ArraySystemDesign',\n",
      "                         'ElectricalDesign',\n",
      "                         'SemiSubmersibleDesign',\n",
      "                         'SemiTautMooringSystemDesign'],\n",
      "    'export_cable_bury_vessel': 'str | dict (optional)',\n",
      "    'export_cable_install_vessel': 'str | dict',\n",
      "    'export_cable_trench_vessel': 'str (optional)',\n",
      "    'export_system': {   'interconnection_distance': 'km (optional); default: '\n",
      "                                                     '3km',\n",
      "                         'interconnection_voltage': 'kV (optional); default: '\n",
      "                                                    '345kV'},\n",
      "    'export_system_design': {   'cable_crossings': {   'crossing_number': 'int '\n",
      "                                                                          '(optional)',\n",
      "                                                       'crossing_unit_cost': 'float '\n",
      "                                                                             '(optional)'},\n",
      "                                'cables': 'str',\n",
      "                                'num_redundant': 'int (optional)',\n",
      "                                'percent_added_length': 'float (optional)',\n",
      "                                'touchdown_distance': 'm (optional, default: '\n",
      "                                                      '0)'},\n",
      "    'install_phases': [   'ArrayCableInstallation',\n",
      "                          'ExportCableInstallation',\n",
      "                          'MooringSystemInstallation',\n",
      "                          'FloatingSubstationInstallation',\n",
      "                          'MooredSubInstallation'],\n",
      "    'landfall': {   'interconnection_distance': 'km (optional)',\n",
      "                    'trench_length': 'km (optional)'},\n",
      "    'mooring_install_vessel': 'dict | str',\n",
      "    'mooring_system_design': {   'anchor_type': \"str (optional, default: 'Drag \"\n",
      "                                                \"Embedment')\",\n",
      "                                 'drag_embedment_fixed_length': 'int | float '\n",
      "                                                                '(optional, '\n",
      "                                                                'default: '\n",
      "                                                                '.5km)',\n",
      "                                 'mooring_line_cost_rate': 'int | float '\n",
      "                                                           '(optional)',\n",
      "                                 'num_lines': 'int | float (optional, default: '\n",
      "                                              '4)'},\n",
      "    'orbit_version': 'v1.0.7+55.gd91fe4a',\n",
      "    'oss_install_vessel': 'str',\n",
      "    'plant': {   'capacity': 'MW',\n",
      "                 'layout': 'str',\n",
      "                 'num_turbines': 'int',\n",
      "                 'row_spacing': 'rotor diameters',\n",
      "                 'substation_distance': 'km',\n",
      "                 'turbine_distance': 'km (optional)',\n",
      "                 'turbine_spacing': 'rotor diameters'},\n",
      "    'port': {   'assembly_storage': 'int (optional, default: inf)',\n",
      "                'monthly_rate': 'USD/mo (optional)',\n",
      "                'name': 'str (optional)',\n",
      "                'sub_assembly_lines': 'int (optional, default: 1)',\n",
      "                'sub_storage': 'int (optional, default: inf)',\n",
      "                'turbine_assembly_cranes': 'int (optional, default: 1)'},\n",
      "    'project_parameters': {   'commissioning': '$/kW (optional, default: 44)',\n",
      "                              'construction_financing': '$/kW (optional, '\n",
      "                                                        'default: 183)',\n",
      "                              'construction_insurance': '$/kW (optional, '\n",
      "                                                        'default: 44)',\n",
      "                              'construction_plan_cost': '$ (optional, default: '\n",
      "                                                        '1e6)',\n",
      "                              'contingency': '$/kW (optional, default: 316)',\n",
      "                              'decommissioning': '$/kW (optional, default: 58)',\n",
      "                              'discount_rate': 'yearly (optional, default: '\n",
      "                                               '.025)',\n",
      "                              'installation_plan_cost': '$ (optional, default: '\n",
      "                                                        '0.25e6)',\n",
      "                              'ncf': 'float (optional, default: 0.4)',\n",
      "                              'offtake_price': '$/MWh (optional, default: 80)',\n",
      "                              'opex_rate': '$/kW/year (optional, default: 150)',\n",
      "                              'project_lifetime': 'yrs (optional, default: 25)',\n",
      "                              'site_assessment_cost': '$ (optional, default: '\n",
      "                                                      '50e6)',\n",
      "                              'site_auction_price': '$ (optional, default: '\n",
      "                                                    '100e6)',\n",
      "                              'turbine_capex': '$/kW (optional, default: '\n",
      "                                               '1300)'},\n",
      "    'semisubmersible_design': {   'heave_plate_CR': '$/t (optional, default: '\n",
      "                                                    '6250)',\n",
      "                                  'secondary_steel_CR': '$/t (optional, '\n",
      "                                                        'default: 7250)',\n",
      "                                  'stiffened_column_CR': '$/t (optional, '\n",
      "                                                         'default: 3120)',\n",
      "                                  'towing_speed': 'km/h (optional, default: 6)',\n",
      "                                  'truss_CR': '$/t (optional, default: 6250)'},\n",
      "    'site': {'depth': 'float', 'distance': 'km', 'distance_to_landfall': 'km'},\n",
      "    'substation_design': {   'backup_gen_cost': 'USD (optional)',\n",
      "                             'converter_cost': 'USD (optional)',\n",
      "                             'dc_breaker_cost': 'int (optional)',\n",
      "                             'floating_oss': 'T/F (optional, default: False)',\n",
      "                             'mpt_cost_rate': 'USD/MW (optional)',\n",
      "                             'num_substations': 'int (optional)',\n",
      "                             'oss_pile_cost_rate': 'USD/t (optional)',\n",
      "                             'oss_substructure_cost_rate': 'USD/t (optional)',\n",
      "                             'other_ancillary_cost': 'USD (optional)',\n",
      "                             'shunt_cost_rate': 'USD/MW (optional)',\n",
      "                             'switchgear_cost': 'USD (optional)',\n",
      "                             'topside_assembly_factor': 'float (optional)',\n",
      "                             'topside_design_cost': 'USD (optional)',\n",
      "                             'topside_fab_cost_rate': 'USD/t (optional)',\n",
      "                             'workspace_cost': 'USD (optional)'},\n",
      "    'substructure': {'takt_time': 'int | float (optional, default: 0)'},\n",
      "    'support_vessel': 'str',\n",
      "    'towing_vessel': 'str',\n",
      "    'towing_vessel_groups': {   'num_groups': 'int (optional)',\n",
      "                                'station_keeping_vessels': 'int',\n",
      "                                'towing_vessels': 'int'},\n",
      "    'turbine': {'rotor_diameter': 'm', 'turbine_rating': 'int | float'}}\n",
      "{   'Array System': 46.0744480964181,\n",
      "    'Array System Installation': 29.445881819671474,\n",
      "    'Export System': 176.5132542372139,\n",
      "    'Export System Installation': 11.491923811320275,\n",
      "    'Mooring System': 187.8728,\n",
      "    'Mooring System Installation': 44.09271564551672,\n",
      "    'Offshore Substation': 307.32218109452737,\n",
      "    'Offshore Substation Installation': 7.872765169585859,\n",
      "    'Project': 150.49751243781094,\n",
      "    'Soft': 645.0,\n",
      "    'Substructure': 979.5348983333332,\n",
      "    'Substructure Installation': 121.7350530452759,\n",
      "    'Turbine': 1300.0}\n",
      "Installation CapEx: 216 M\n",
      "System CapEx: 1706 M\n",
      "Turbine CapEx: 1306 M\n",
      "Soft CapEx: 648 M\n",
      "Total CapEx: 4027 M\n",
      "\n",
      "Installation Time: 24218 h\n"
     ]
    }
   ],
   "source": [
    "%run run_analysis.py"
   ]
  },
  {
   "cell_type": "code",
   "execution_count": 16,
   "id": "bb792e5c",
   "metadata": {},
   "outputs": [
    {
     "data": {
      "text/plain": [
       "'scenario_2_for_1GW.yaml'"
      ]
     },
     "execution_count": 16,
     "metadata": {},
     "output_type": "execute_result"
    }
   ],
   "source": [
    "custom_config[8:]"
   ]
  },
  {
   "cell_type": "code",
   "execution_count": 13,
   "id": "40f7a032",
   "metadata": {},
   "outputs": [
    {
     "data": {
      "text/plain": [
       "Array System                          46.074448\n",
       "Export System                         90.941115\n",
       "Substructure                         979.534898\n",
       "Mooring System                       187.872800\n",
       "Offshore Substation                  307.322181\n",
       "Array System Installation             29.362173\n",
       "Export System Installation             5.695473\n",
       "Substructure Installation            113.569047\n",
       "Mooring System Installation           42.341035\n",
       "Offshore Substation Installation       6.993173\n",
       "Turbine                             1300.000000\n",
       "Soft                                 645.000000\n",
       "Project                              150.497512\n",
       "dtype: float64"
      ]
     },
     "execution_count": 13,
     "metadata": {},
     "output_type": "execute_result"
    }
   ],
   "source": [
    "capex_brkdwn_per_kw_series"
   ]
  },
  {
   "cell_type": "code",
   "execution_count": null,
   "id": "16bf30fd",
   "metadata": {},
   "outputs": [],
   "source": []
  }
 ],
 "metadata": {
  "kernelspec": {
   "display_name": "Python 3 (ipykernel)",
   "language": "python",
   "name": "python3"
  },
  "language_info": {
   "codemirror_mode": {
    "name": "ipython",
    "version": 3
   },
   "file_extension": ".py",
   "mimetype": "text/x-python",
   "name": "python",
   "nbconvert_exporter": "python",
   "pygments_lexer": "ipython3",
   "version": "3.9.16"
  }
 },
 "nbformat": 4,
 "nbformat_minor": 5
}
